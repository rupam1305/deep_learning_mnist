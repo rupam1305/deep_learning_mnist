{
 "cells": [
  {
   "cell_type": "markdown",
   "id": "63904a2b",
   "metadata": {},
   "source": [
    "# Import Basic laibraries\n"
   ]
  },
  {
   "cell_type": "code",
   "execution_count": null,
   "id": "10635e69",
   "metadata": {},
   "outputs": [],
   "source": [
    "import pandas as pd\n",
    "import numpy as np\n",
    "import matplotlib.pyplot as plt"
   ]
  },
  {
   "cell_type": "code",
   "execution_count": 57,
   "id": "63ee4851",
   "metadata": {},
   "outputs": [],
   "source": [
    "import tensorflow as tf"
   ]
  },
  {
   "cell_type": "markdown",
   "id": "f7c28c35",
   "metadata": {},
   "source": [
    "# Import Mnist dataset"
   ]
  },
  {
   "cell_type": "code",
   "execution_count": 58,
   "id": "4e532ffb",
   "metadata": {},
   "outputs": [],
   "source": [
    "mnist=tf.keras.datasets.mnist"
   ]
  },
  {
   "cell_type": "markdown",
   "id": "262ccbbb",
   "metadata": {},
   "source": [
    "# seprate into train test split"
   ]
  },
  {
   "cell_type": "code",
   "execution_count": 61,
   "id": "14cff54f",
   "metadata": {},
   "outputs": [],
   "source": [
    "(xtrain,ytrain),(xtest,ytest)=mnist.load_data()"
   ]
  },
  {
   "cell_type": "code",
   "execution_count": 77,
   "id": "106036d3",
   "metadata": {},
   "outputs": [
    {
     "name": "stdout",
     "output_type": "stream",
     "text": [
      "[[0.         0.         0.         0.         0.         0.\n",
      "  0.         0.         0.         0.         0.         0.\n",
      "  0.         0.         0.         0.         0.         0.\n",
      "  0.         0.         0.         0.         0.         0.\n",
      "  0.         0.         0.         0.        ]\n",
      " [0.         0.         0.         0.         0.         0.\n",
      "  0.         0.         0.         0.         0.         0.\n",
      "  0.         0.         0.         0.         0.         0.\n",
      "  0.         0.         0.         0.         0.         0.\n",
      "  0.         0.         0.         0.        ]\n",
      " [0.         0.         0.         0.         0.         0.\n",
      "  0.         0.         0.         0.         0.         0.\n",
      "  0.         0.         0.         0.         0.         0.\n",
      "  0.         0.         0.         0.         0.         0.\n",
      "  0.         0.         0.         0.        ]\n",
      " [0.         0.         0.         0.         0.         0.\n",
      "  0.         0.         0.         0.         0.         0.\n",
      "  0.         0.         0.         0.         0.         0.\n",
      "  0.         0.         0.         0.         0.         0.\n",
      "  0.         0.         0.         0.        ]\n",
      " [0.         0.         0.         0.         0.         0.\n",
      "  0.         0.         0.         0.         0.         0.\n",
      "  0.         0.         0.         0.         0.         0.\n",
      "  0.         0.         0.         0.         0.         0.\n",
      "  0.         0.         0.         0.        ]\n",
      " [0.         0.         0.         0.         0.         0.\n",
      "  0.         0.         0.         0.         0.         0.\n",
      "  0.         0.         0.         0.         0.         0.\n",
      "  0.         0.         0.11215074 0.55234025 0.57241636 0.\n",
      "  0.         0.         0.         0.        ]\n",
      " [0.         0.         0.         0.         0.08650726 0.16103093\n",
      "  0.         0.         0.         0.         0.         0.\n",
      "  0.         0.         0.         0.         0.         0.\n",
      "  0.         0.         0.20086699 0.42853985 0.57241636 0.\n",
      "  0.         0.         0.         0.        ]\n",
      " [0.         0.         0.         0.         0.17580507 0.3240499\n",
      "  0.         0.         0.         0.         0.         0.\n",
      "  0.         0.         0.         0.         0.         0.\n",
      "  0.         0.00271221 0.25610542 0.49996316 0.5870937  0.\n",
      "  0.         0.         0.         0.        ]\n",
      " [0.         0.         0.         0.         0.30696124 0.3240499\n",
      "  0.         0.         0.         0.         0.         0.\n",
      "  0.         0.         0.         0.         0.         0.\n",
      "  0.         0.03661479 0.42516847 0.38568586 0.         0.\n",
      "  0.         0.         0.         0.        ]\n",
      " [0.         0.         0.         0.         0.3097518  0.3240499\n",
      "  0.         0.         0.         0.         0.         0.\n",
      "  0.         0.         0.         0.         0.         0.\n",
      "  0.         0.24816691 0.42516847 0.29759712 0.         0.\n",
      "  0.         0.         0.         0.        ]\n",
      " [0.         0.         0.         0.13572983 0.3418432  0.3240499\n",
      "  0.         0.         0.         0.         0.         0.\n",
      "  0.         0.         0.         0.         0.         0.\n",
      "  0.         0.26850846 0.42516847 0.13332351 0.         0.\n",
      "  0.         0.         0.         0.        ]\n",
      " [0.         0.         0.         0.35407783 0.3544007  0.3240499\n",
      "  0.         0.         0.         0.         0.         0.\n",
      "  0.         0.         0.         0.         0.         0.\n",
      "  0.02599851 0.31325987 0.42516847 0.06904253 0.         0.\n",
      "  0.         0.         0.         0.        ]\n",
      " [0.         0.         0.         0.46915312 0.3544007  0.23856435\n",
      "  0.         0.         0.         0.         0.         0.\n",
      "  0.         0.         0.         0.         0.         0.\n",
      "  0.18425032 0.34445024 0.36156059 0.03809243 0.         0.\n",
      "  0.         0.         0.         0.        ]\n",
      " [0.         0.         0.         0.46915312 0.3544007  0.13319843\n",
      "  0.         0.         0.         0.         0.         0.\n",
      "  0.         0.         0.         0.05387565 0.34280637 0.33442521\n",
      "  0.28033177 0.34445024 0.15232414 0.         0.         0.\n",
      "  0.         0.         0.         0.        ]\n",
      " [0.         0.         0.         0.46915312 0.3544007  0.16898308\n",
      "  0.         0.         0.         0.1504842  0.17713556 0.41246938\n",
      "  0.51449576 0.60385769 0.86000157 0.93512735 0.93275221 0.33630401\n",
      "  0.27241918 0.34173804 0.06695566 0.         0.         0.\n",
      "  0.         0.         0.         0.        ]\n",
      " [0.         0.         0.         0.44259728 0.35300542 0.47116458\n",
      "  0.76003359 0.76003359 0.76003359 0.81005324 0.91821292 0.88894262\n",
      "  0.85749293 0.79709215 0.51029139 0.35019173 0.11161138 0.00939397\n",
      "  0.26337622 0.33902583 0.         0.         0.         0.\n",
      "  0.         0.         0.         0.        ]\n",
      " [0.         0.         0.         0.         0.16603812 0.35188241\n",
      "  0.64988379 0.64988379 0.64988379 0.56671709 0.35427113 0.19912315\n",
      "  0.         0.         0.         0.         0.         0.19163692\n",
      "  0.28711399 0.29834273 0.         0.         0.         0.\n",
      "  0.         0.         0.         0.        ]\n",
      " [0.         0.         0.         0.         0.         0.\n",
      "  0.         0.         0.         0.         0.         0.\n",
      "  0.         0.         0.         0.         0.         0.31751607\n",
      "  0.28711399 0.18578615 0.         0.         0.         0.\n",
      "  0.         0.         0.         0.        ]\n",
      " [0.         0.         0.         0.         0.         0.\n",
      "  0.         0.         0.         0.         0.         0.\n",
      "  0.         0.         0.         0.         0.         0.31751607\n",
      "  0.28711399 0.07729789 0.         0.         0.         0.\n",
      "  0.         0.         0.         0.        ]\n",
      " [0.         0.         0.         0.         0.         0.\n",
      "  0.         0.         0.         0.         0.         0.\n",
      "  0.         0.         0.         0.         0.         0.31751607\n",
      "  0.28711399 0.07729789 0.         0.         0.         0.\n",
      "  0.         0.         0.         0.        ]\n",
      " [0.         0.         0.         0.         0.         0.\n",
      "  0.         0.         0.         0.         0.         0.\n",
      "  0.         0.         0.         0.         0.         0.31751607\n",
      "  0.28824436 0.12747371 0.         0.         0.         0.\n",
      "  0.         0.         0.         0.        ]\n",
      " [0.         0.         0.         0.         0.         0.\n",
      "  0.         0.         0.         0.         0.         0.\n",
      "  0.         0.         0.         0.         0.         0.31751607\n",
      "  0.28711399 0.13018592 0.         0.         0.         0.\n",
      "  0.         0.         0.         0.        ]\n",
      " [0.         0.         0.         0.         0.         0.\n",
      "  0.         0.         0.         0.         0.         0.\n",
      "  0.         0.         0.         0.         0.         0.31751607\n",
      "  0.28711399 0.20748381 0.         0.         0.         0.\n",
      "  0.         0.         0.         0.        ]\n",
      " [0.         0.         0.         0.         0.         0.\n",
      "  0.         0.         0.         0.         0.         0.\n",
      "  0.         0.         0.         0.         0.         0.31751607\n",
      "  0.28824436 0.20748381 0.         0.         0.         0.\n",
      "  0.         0.         0.         0.        ]\n",
      " [0.         0.         0.         0.         0.         0.\n",
      "  0.         0.         0.         0.         0.         0.\n",
      "  0.         0.         0.         0.         0.         0.18036416\n",
      "  0.28711399 0.20748381 0.         0.         0.         0.\n",
      "  0.         0.         0.         0.        ]\n",
      " [0.         0.         0.         0.         0.         0.\n",
      "  0.         0.         0.         0.         0.         0.\n",
      "  0.         0.         0.         0.         0.         0.\n",
      "  0.         0.         0.         0.         0.         0.\n",
      "  0.         0.         0.         0.        ]\n",
      " [0.         0.         0.         0.         0.         0.\n",
      "  0.         0.         0.         0.         0.         0.\n",
      "  0.         0.         0.         0.         0.         0.\n",
      "  0.         0.         0.         0.         0.         0.\n",
      "  0.         0.         0.         0.        ]\n",
      " [0.         0.         0.         0.         0.         0.\n",
      "  0.         0.         0.         0.         0.         0.\n",
      "  0.         0.         0.         0.         0.         0.\n",
      "  0.         0.         0.         0.         0.         0.\n",
      "  0.         0.         0.         0.        ]]\n",
      "4\n"
     ]
    },
    {
     "data": {
      "image/png": "[encoded data removed]",
      "text/plain": [
       "<Figure size 432x288 with 1 Axes>"
      ]
     },
     "metadata": {
      "needs_background": "light"
     },
     "output_type": "display_data"
    }
   ],
   "source": [
    "plt.imshow(xtrain[2],cmap=plt.cm.binary)\n",
    "print(xtrain[2])\n",
    "print(ytrain[2])"
   ]
  },
  {
   "cell_type": "markdown",
   "id": "c75fb748",
   "metadata": {},
   "source": [
    "# Normalization of data"
   ]
  },
  {
   "cell_type": "code",
   "execution_count": 76,
   "id": "ca26a470",
   "metadata": {},
   "outputs": [],
   "source": [
    "xtrain=tf.keras.utils.normalize(xtrain,axis=1)\n",
    "xtest=tf.keras.utils.normalize(xtest,axis=1)"
   ]
  },
  {
   "cell_type": "markdown",
   "id": "f45ecc3c",
   "metadata": {},
   "source": [
    "# import deep learning laibraries"
   ]
  },
  {
   "cell_type": "code",
   "execution_count": 80,
   "id": "17c2cedd",
   "metadata": {},
   "outputs": [],
   "source": [
    "from keras.models import Sequential\n",
    "from keras.layers import Dense,Flatten\n",
    "from keras.optimizers import SGD,Adam"
   ]
  },
  {
   "cell_type": "code",
   "execution_count": null,
   "id": "3ad3568b",
   "metadata": {},
   "outputs": [],
   "source": []
  },
  {
   "cell_type": "code",
   "execution_count": 85,
   "id": "8282f4f0",
   "metadata": {},
   "outputs": [],
   "source": [
    "model=Sequential()\n",
    "model.add(Flatten())#flatten the layer(input)\n",
    "model.add(Dense(128,activation='relu'))#hidden layer\n",
    "model.add(Dense(128,activation='relu'))#hidden layer\n",
    "model.add(Dense(10,activation='softmax'))#output layer"
   ]
  },
  {
   "cell_type": "code",
   "execution_count": 129,
   "id": "5c1a2b89",
   "metadata": {},
   "outputs": [
    {
     "name": "stdout",
     "output_type": "stream",
     "text": [
      "Model: \"sequential_3\"\n",
      "_________________________________________________________________\n",
      "Layer (type)                 Output Shape              Param #   \n",
      "=================================================================\n",
      "flatten_1 (Flatten)          (None, 784)               0         \n",
      "_________________________________________________________________\n",
      "dense (Dense)                (None, 128)               100480    \n",
      "_________________________________________________________________\n",
      "dense_1 (Dense)              (None, 128)               16512     \n",
      "_________________________________________________________________\n",
      "dense_2 (Dense)              (None, 10)                1290      \n",
      "=================================================================\n",
      "Total params: 118,282\n",
      "Trainable params: 118,282\n",
      "Non-trainable params: 0\n",
      "_________________________________________________________________\n"
     ]
    }
   ],
   "source": [
    "model.summary()"
   ]
  },
  {
   "cell_type": "markdown",
   "id": "d0e0e519",
   "metadata": {},
   "source": [
    "# layer network"
   ]
  },
  {
   "cell_type": "code",
   "execution_count": 130,
   "id": "8c1db2ac",
   "metadata": {},
   "outputs": [
    {
     "data": {
      "image/png": "[encoded data removed]",
      "text/plain": [
       "<IPython.core.display.Image object>"
      ]
     },
     "execution_count": 130,
     "metadata": {},
     "output_type": "execute_result"
    }
   ],
   "source": [
    "from tensorflow.keras.utils import plot_model\n",
    "import tensorflow as tf\n",
    "tf.keras.utils.plot_model(model)"
   ]
  },
  {
   "cell_type": "code",
   "execution_count": 95,
   "id": "1bc5b90d",
   "metadata": {},
   "outputs": [],
   "source": [
    "model.compile(optimizer=\"adam\",loss=\"sparse_categorical_crossentropy\",metrics=[\"accuracy\"])"
   ]
  },
  {
   "cell_type": "code",
   "execution_count": 126,
   "id": "309bafcd",
   "metadata": {},
   "outputs": [
    {
     "name": "stdout",
     "output_type": "stream",
     "text": [
      "Epoch 1/5\n",
      "1875/1875 [==============================] - 4s 2ms/step - loss: 0.0223 - accuracy: 0.9929\n",
      "Epoch 2/5\n",
      "1875/1875 [==============================] - 4s 2ms/step - loss: 0.0200 - accuracy: 0.9931\n",
      "Epoch 3/5\n",
      "1875/1875 [==============================] - 4s 2ms/step - loss: 0.0164 - accuracy: 0.9944\n",
      "Epoch 4/5\n",
      "1875/1875 [==============================] - 4s 2ms/step - loss: 0.0153 - accuracy: 0.9949\n",
      "Epoch 5/5\n",
      "1875/1875 [==============================] - 4s 2ms/step - loss: 0.0127 - accuracy: 0.9957\n"
     ]
    }
   ],
   "source": [
    "m_histroy=model.fit(xtrain,ytrain,epochs=10)"
   ]
  },
  {
   "cell_type": "code",
   "execution_count": 98,
   "id": "ba2883e4",
   "metadata": {},
   "outputs": [
    {
     "name": "stdout",
     "output_type": "stream",
     "text": [
      "313/313 [==============================] - 0s 1ms/step - loss: 0.0994 - accuracy: 0.9751\n"
     ]
    },
    {
     "data": {
      "text/plain": [
       "[0.09938838332891464, 0.9750999808311462]"
      ]
     },
     "execution_count": 98,
     "metadata": {},
     "output_type": "execute_result"
    }
   ],
   "source": [
    "    model.evaluate(xtest,ytest)"
   ]
  },
  {
   "cell_type": "markdown",
   "id": "bd7f59bc",
   "metadata": {},
   "source": [
    "# Prediction"
   ]
  },
  {
   "cell_type": "code",
   "execution_count": 101,
   "id": "56d6940b",
   "metadata": {},
   "outputs": [],
   "source": [
    "y_pred = model.predict(xtest)"
   ]
  },
  {
   "cell_type": "code",
   "execution_count": 113,
   "id": "cb726e8d",
   "metadata": {},
   "outputs": [
    {
     "data": {
      "text/plain": [
       "(10000, 10)"
      ]
     },
     "execution_count": 113,
     "metadata": {},
     "output_type": "execute_result"
    }
   ],
   "source": [
    "y_pred.shape"
   ]
  },
  {
   "cell_type": "code",
   "execution_count": 106,
   "id": "e8ae1c7b",
   "metadata": {},
   "outputs": [],
   "source": [
    "y_pred_class = np.argmax(y_pred,axis=1)"
   ]
  },
  {
   "cell_type": "markdown",
   "id": "04ba7733",
   "metadata": {},
   "source": [
    "# Prediction vs actual"
   ]
  },
  {
   "cell_type": "code",
   "execution_count": 154,
   "id": "952bd5dd",
   "metadata": {},
   "outputs": [
    {
     "name": "stdout",
     "output_type": "stream",
     "text": [
      "2\n"
     ]
    },
    {
     "data": {
      "image/png": "[encoded data removed]",
      "text/plain": [
       "<Figure size 432x288 with 1 Axes>"
      ]
     },
     "metadata": {
      "needs_background": "light"
     },
     "output_type": "display_data"
    }
   ],
   "source": [
    "plt.imshow(xtest[1],cmap=plt.cm.binary) #actual\n",
    "print(y_pred_class[1]) #predicted\n"
   ]
  },
  {
   "cell_type": "markdown",
   "id": "2264c497",
   "metadata": {},
   "source": [
    "# Graph"
   ]
  },
  {
   "cell_type": "code",
   "execution_count": 127,
   "id": "7d8d1a38",
   "metadata": {},
   "outputs": [
    {
     "data": {
      "image/png": "[encoded data removed]",
      "text/plain": [
       "<Figure size 576x360 with 1 Axes>"
      ]
     },
     "metadata": {
      "needs_background": "light"
     },
     "output_type": "display_data"
    }
   ],
   "source": [
    "import matplotlib.pyplot as plt\n",
    "pd.DataFrame(m_histroy.history).plot(figsize=(8,5))\n",
    "plt.grid(True)\n",
    "plt.gca().set_ylim(0,1)\n",
    "plt.show()"
   ]
  },
  {
   "cell_type": "code",
   "execution_count": 153,
   "id": "b4ee6937",
   "metadata": {},
   "outputs": [
    {
     "data": {
      "text/plain": [
       "[array([[ 0.03548992,  0.04778749, -0.03619749, ...,  0.01781545,\n",
       "          0.05388132, -0.01926035],\n",
       "        [-0.04053139, -0.06932046,  0.0493883 , ...,  0.04249744,\n",
       "         -0.06962577,  0.05028778],\n",
       "        [-0.02155207, -0.02673667,  0.03721619, ..., -0.0388478 ,\n",
       "          0.07666325,  0.02854807],\n",
       "        ...,\n",
       "        [-0.02042345,  0.05776622, -0.04113098, ...,  0.00380225,\n",
       "         -0.06647606, -0.02804872],\n",
       "        [-0.04787802, -0.04033519,  0.021107  , ...,  0.00140151,\n",
       "          0.05275651, -0.04194301],\n",
       "        [ 0.01891481,  0.02708472,  0.02908947, ..., -0.04825151,\n",
       "          0.0403681 ,  0.0482021 ]], dtype=float32),\n",
       " array([-0.06318059, -0.02909645,  0.02457769,  0.02767909, -0.05603017,\n",
       "        -0.03365592, -0.0512371 , -0.0591299 , -0.14233394, -0.11445475,\n",
       "        -0.02764189, -0.06901857,  0.08459997, -0.02644458, -0.02683094,\n",
       "         0.08198617,  0.02254542, -0.01842642, -0.08250916, -0.02937965,\n",
       "        -0.02998952,  0.13600287, -0.06231737, -0.03551687, -0.0207251 ,\n",
       "        -0.06095437,  0.02587651,  0.02344977, -0.04086768,  0.0286137 ,\n",
       "         0.10551501,  0.01599898,  0.04003135, -0.0329276 , -0.02336956,\n",
       "        -0.04049084,  0.00144897, -0.02879402,  0.04306128,  0.01721239,\n",
       "         0.03624232, -0.02752494, -0.04689514,  0.13139772, -0.04338461,\n",
       "        -0.02714709, -0.02919806, -0.05033578, -0.03370528, -0.02696902,\n",
       "        -0.00939648,  0.05371046,  0.15969637, -0.04269898,  0.08019257,\n",
       "        -0.03200696, -0.05261728, -0.05986995, -0.04348897, -0.10975263,\n",
       "        -0.08971487, -0.04715514, -0.03493383,  0.05417932, -0.04191884,\n",
       "        -0.03369442,  0.10213958, -0.00214741, -0.12426226, -0.02511557,\n",
       "         0.08886378, -0.03356456, -0.04821595, -0.02130436, -0.05770009,\n",
       "         0.06068384, -0.03429753, -0.05590995, -0.09451605,  0.04783853,\n",
       "         0.10375208,  0.07754315, -0.05532013, -0.03280453, -0.04756774,\n",
       "        -0.03076275,  0.03352974, -0.0226581 , -0.04823521, -0.02718438,\n",
       "        -0.02804313, -0.03573585, -0.02374917,  0.0130041 , -0.01759052,\n",
       "        -0.03490916, -0.01662946, -0.03278826,  0.05755909, -0.02823842,\n",
       "        -0.03170438, -0.03021949, -0.02362975,  0.01999136, -0.08027763,\n",
       "         0.03388806, -0.03275898, -0.09510805, -0.02858162, -0.02036471,\n",
       "        -0.02450617, -0.04258891,  0.01651735,  0.02191048, -0.05913058,\n",
       "        -0.02200093, -0.02596516,  0.04321659, -0.03411501, -0.03212373,\n",
       "         0.05034305, -0.02786373, -0.02229903, -0.02512819,  0.06610018,\n",
       "        -0.02320211, -0.06766193,  0.01034616], dtype=float32),\n",
       " array([[-0.1724428 , -0.11171722,  0.06691868, ..., -0.08051638,\n",
       "         -0.02049873, -0.13164996],\n",
       "        [-0.01597692, -0.05531545,  0.03534597, ..., -0.03455358,\n",
       "         -0.03333889,  0.13688266],\n",
       "        [ 0.28249976, -0.21128382,  0.00126829, ..., -0.2077334 ,\n",
       "          0.4492383 ,  0.06045638],\n",
       "        ...,\n",
       "        [ 0.01925792,  0.06238897,  0.09946961, ..., -0.36425018,\n",
       "         -0.16271241,  0.07691843],\n",
       "        [-0.05197733,  0.1495961 , -0.09997968, ...,  0.50570923,\n",
       "         -0.34620348, -0.4461367 ],\n",
       "        [-0.23921871, -0.04483497, -0.105773  , ...,  0.01658632,\n",
       "         -0.14590284, -0.31481335]], dtype=float32),\n",
       " array([-0.01480489, -0.1145186 , -0.14326307,  0.1079144 , -0.08049864,\n",
       "         0.08395965,  0.1634602 ,  0.0365755 , -0.17213659,  0.14453243,\n",
       "         0.17603615,  0.04847521,  0.12211552, -0.07201523, -0.11611357,\n",
       "         0.01750533,  0.09158331,  0.12226038, -0.0850557 , -0.01876819,\n",
       "         0.11103658, -0.1582651 , -0.0927873 ,  0.02133846, -0.10717215,\n",
       "        -0.16992433, -0.06379922, -0.16688636,  0.13874345, -0.1830927 ,\n",
       "         0.05000501,  0.07966848, -0.13264874, -0.12454386, -0.0109733 ,\n",
       "        -0.01648782,  0.07512489, -0.17517866, -0.10777798,  0.09255468,\n",
       "         0.03073233, -0.09337941, -0.00985051,  0.1741456 ,  0.06027454,\n",
       "        -0.10461274,  0.2135015 ,  0.03912578, -0.18475048, -0.0921867 ,\n",
       "         0.07947961,  0.05533257,  0.00904351, -0.11396703,  0.01661946,\n",
       "        -0.07251499, -0.02396565, -0.14943297,  0.08323256, -0.08381056,\n",
       "         0.00712675, -0.05331538, -0.20760609,  0.04291588, -0.03282737,\n",
       "        -0.00963595, -0.00164157, -0.11970703,  0.13000062, -0.16939662,\n",
       "         0.08611668,  0.03427086,  0.09631405,  0.02739598,  0.00411539,\n",
       "        -0.19687192,  0.06441814, -0.1927826 , -0.15896678,  0.06878895,\n",
       "         0.08516539,  0.11272312, -0.08541582,  0.00245389, -0.06865028,\n",
       "        -0.09814464,  0.08208761,  0.08578566, -0.06273926, -0.01534176,\n",
       "         0.09779362, -0.13032605, -0.11053266,  0.07179928,  0.00885014,\n",
       "         0.01568546,  0.21668233,  0.13244574,  0.04586355, -0.09415477,\n",
       "        -0.01612446,  0.0815157 , -0.1502254 ,  0.14448334, -0.02412881,\n",
       "        -0.11839716, -0.1027075 ,  0.14760657, -0.03025416, -0.02273563,\n",
       "         0.01365778, -0.12522416, -0.00591971,  0.13779461,  0.05593008,\n",
       "         0.18372543,  0.16772373,  0.07643514, -0.0530259 ,  0.04290683,\n",
       "         0.02893308,  0.01259615, -0.07814303,  0.25998273, -0.12643749,\n",
       "         0.08140821, -0.00910863, -0.06861392], dtype=float32),\n",
       " array([[-0.7292396 , -0.00826726, -0.11750279, ..., -0.01936655,\n",
       "         -0.01789391, -0.06820721],\n",
       "        [ 0.09011611,  0.23083559,  0.21762627, ..., -0.18710846,\n",
       "         -0.02585577, -0.4418229 ],\n",
       "        [ 0.11054113,  0.26824394, -0.0890872 , ..., -0.49919513,\n",
       "         -0.31964567, -0.1515409 ],\n",
       "        ...,\n",
       "        [ 0.26142758, -0.33008397,  0.31700262, ..., -0.6806576 ,\n",
       "         -0.5521341 ,  0.28825402],\n",
       "        [-0.39516395, -0.19537841, -0.3845548 , ...,  0.22372402,\n",
       "         -0.00387375,  0.00615785],\n",
       "        [ 0.12136702,  0.6097376 , -0.6831646 , ..., -0.00203505,\n",
       "         -0.9881264 , -0.39401552]], dtype=float32),\n",
       " array([ 0.02449038, -0.16683485, -0.08632628,  0.01590739,  0.07577146,\n",
       "        -0.0913184 , -0.0781067 , -0.04561994,  0.23067251,  0.05977927],\n",
       "       dtype=float32)]"
      ]
     },
     "execution_count": 153,
     "metadata": {},
     "output_type": "execute_result"
    }
   ],
   "source": [
    "model.get_weights()"
   ]
  },
  {
   "cell_type": "code",
   "execution_count": null,
   "id": "91e2db9c",
   "metadata": {},
   "outputs": [],
   "source": []
  },
  {
   "cell_type": "code",
   "execution_count": null,
   "id": "6dae56cf",
   "metadata": {},
   "outputs": [],
   "source": []
  }
 ],
 "metadata": {
  "kernelspec": {
   "display_name": "Python 3 (ipykernel)",
   "language": "python",
   "name": "python3"
  },
  "language_info": {
   "codemirror_mode": {
    "name": "ipython",
    "version": 3
   },
   "file_extension": ".py",
   "mimetype": "text/x-python",
   "name": "python",
   "nbconvert_exporter": "python",
   "pygments_lexer": "ipython3",
   "version": "3.8.12"
  }
 },
 "nbformat": 4,
 "nbformat_minor": 5
}
